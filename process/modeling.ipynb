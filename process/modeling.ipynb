{
 "cells": [
  {
   "cell_type": "code",
   "execution_count": 3,
   "metadata": {},
   "outputs": [],
   "source": [
    "from tensorflow.python.client import device_lib\n",
    "\n",
    "import zipfile\n",
    "import glob\n",
    "import torch\n",
    "import pandas as pd\n",
    "import numpy as np\n",
    "import matplotlib.pylab as plt\n",
    "from tqdm import tqdm\n",
    "import tensorflow as tf\n",
    "from tensorflow import keras\n",
    "from keras.models import Model\n",
    "from tensorflow.keras.layers import Conv2D, Conv2DTranspose, MaxPooling2D, BatchNormalization, concatenate, ConvLSTM2D, Conv3D, Input, MaxPooling3D\n",
    "from tensorflow.keras import Model, layers, optimizers\n",
    "\n",
    "import warnings\n",
    "warnings.filterwarnings(\"ignore\")"
   ]
  },
  {
   "cell_type": "code",
   "execution_count": null,
   "metadata": {},
   "outputs": [],
   "source": []
  },
  {
   "cell_type": "code",
   "execution_count": 4,
   "metadata": {},
   "outputs": [
    {
     "data": {
      "text/plain": [
       "[name: \"/device:CPU:0\"\n",
       " device_type: \"CPU\"\n",
       " memory_limit: 268435456\n",
       " locality {\n",
       " }\n",
       " incarnation: 10831537334001737831\n",
       " xla_global_id: -1,\n",
       " name: \"/device:GPU:0\"\n",
       " device_type: \"GPU\"\n",
       " memory_limit: 3080192\n",
       " locality {\n",
       "   bus_id: 1\n",
       "   links {\n",
       "   }\n",
       " }\n",
       " incarnation: 10572559301344059126\n",
       " physical_device_desc: \"device: 0, name: NVIDIA A100-PCIE-40GB MIG 1g.5gb, pci bus id: 0000:1b:00.0, compute capability: 8.0\"\n",
       " xla_global_id: 416903419]"
      ]
     },
     "execution_count": 4,
     "metadata": {},
     "output_type": "execute_result"
    }
   ],
   "source": [
    "#GPU 사용 가능 여부 확인\n",
    "device_lib.list_local_devices()"
   ]
  },
  {
   "cell_type": "code",
   "execution_count": 5,
   "metadata": {},
   "outputs": [
    {
     "name": "stdout",
     "output_type": "stream",
     "text": [
      "WARNING:tensorflow:From <ipython-input-5-17bb7203622b>:1: is_gpu_available (from tensorflow.python.framework.test_util) is deprecated and will be removed in a future version.\n",
      "Instructions for updating:\n",
      "Use `tf.config.list_physical_devices('GPU')` instead.\n"
     ]
    },
    {
     "data": {
      "text/plain": [
       "True"
      ]
     },
     "execution_count": 5,
     "metadata": {},
     "output_type": "execute_result"
    }
   ],
   "source": [
    "tf.test.is_gpu_available()"
   ]
  },
  {
   "cell_type": "code",
   "execution_count": null,
   "metadata": {},
   "outputs": [],
   "source": []
  },
  {
   "cell_type": "code",
   "execution_count": 11,
   "metadata": {},
   "outputs": [],
   "source": [
    "def trainGenerator():\n",
    "    for file in tr_file:\n",
    "        dataset = np.load(file)\n",
    "        target = dataset[:,:,-1].reshape(120,120,1)\n",
    "        remove_minus= np.where(target<0,0,target)\n",
    "        feature = dataset[:,:,:4]\n",
    "        \n",
    "    yield(feature, remove_minus)\n",
    "    \n",
    "def valGenerator():\n",
    "    for file in val_file:\n",
    "        dataset = np.load(file)\n",
    "        target= dataset[:,:,-1].reshape(120,120,1)        \n",
    "        remove_minus = np.where(target < 0, 0, target)\n",
    "        feature = dataset[:,:,:4]\n",
    "\n",
    "\n",
    "        yield (feature, remove_minus)"
   ]
  },
  {
   "cell_type": "code",
   "execution_count": null,
   "metadata": {},
   "outputs": [],
   "source": []
  },
  {
   "cell_type": "code",
   "execution_count": 6,
   "metadata": {},
   "outputs": [],
   "source": [
    "def base_model(input_layer, start_neurons):\n",
    "    convls1 = ConvLSTM2D(start_neurons*1, (3,3), activation = 'relu', padding = 'same', return_sequences=True)(input_layer)\n",
    "    pool1 = BatchNormalization()(convls1)\n",
    "    #pool1 = MaxPooling3D(2,2,2)(pool1)\n",
    "    \n",
    "    convls2 = ConvLSTM2D(start_neurons*2, (3,3), activation = 'relu', padding = 'same', return_sequences=True)(pool1)\n",
    "    pool2 = BatchNormalization()(convls2)\n",
    "    #pool2 = MaxPooling3D(2,2,2)(pool2)\n",
    "    \n",
    "    conv1 = Conv2D(start_neurons * 1, (3, 3), activation=\"relu\", padding=\"same\")(input_layer)\n",
    "    pool1 = BatchNormalization()(conv1)\n",
    "    pool1 = MaxPooling2D((2, 2))(pool1)\n",
    "\n",
    "    conv2 = Conv2D(start_neurons * 2, (3, 3), activation=\"relu\", padding=\"same\")(pool1)\n",
    "    pool2 = BatchNormalization()(conv2)\n",
    "    pool2 = MaxPooling2D((2, 2))(pool2)\n",
    "    \n",
    "    convlm = Conv2D(start_neurons*4, (3,3), activation = 'relu', padding = 'same')(pool2)\n",
    "    \n",
    "    deconv2 = Conv2DTranspose(start_neurons*2, (3,3), strides = (2,2), padding = 'same')(convlm)\n",
    "    uconv2 = concatenate([deconv2, convls2])\n",
    "    uconv2 = Conv2D(start_neurons*2, (3,3), activation = 'relu', padding='same')(uconv2)\n",
    "    uconv2 = BatchNormalization()(uconv2)\n",
    "    \n",
    "    deconv1 = Conv2DTranspose(start_neurons*1, (3,3), strides = (2,2), padding = 'same')(convlm)\n",
    "    uconv1 = concatenate([deconv2, convls2])\n",
    "    uconv1 = Conv2D(start_neurons*1, (3,3), activation = 'relu', padding='same')(uconv2)\n",
    "    uconv1 = BatchNormalization()(uconv2)\n",
    "    \n",
    "    output_layer = Conv2D(1,(1,1),padding = 'same', activation = 'relu')(uconv1)\n",
    "    \n",
    "    return output_layer\n",
    "    "
   ]
  },
  {
   "cell_type": "code",
   "execution_count": null,
   "metadata": {},
   "outputs": [],
   "source": [
    "input_layer = Input((1,120,120,4))\n",
    "output_layer = base_model(input_layer, 64)"
   ]
  },
  {
   "cell_type": "code",
   "execution_count": null,
   "metadata": {},
   "outputs": [],
   "source": []
  }
 ],
 "metadata": {
  "kernelspec": {
   "display_name": "Python 3",
   "language": "python",
   "name": "python3"
  },
  "language_info": {
   "codemirror_mode": {
    "name": "ipython",
    "version": 3
   },
   "file_extension": ".py",
   "mimetype": "text/x-python",
   "name": "python",
   "nbconvert_exporter": "python",
   "pygments_lexer": "ipython3",
   "version": "3.8.3"
  }
 },
 "nbformat": 4,
 "nbformat_minor": 4
}
